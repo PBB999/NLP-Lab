{
 "cells": [
  {
   "cell_type": "code",
   "execution_count": null,
   "metadata": {},
   "outputs": [],
   "source": [
    "import gensim\n",
    "from gensim import corpora\n",
    "from gensim.utils import simple_preprocess\n",
    "\n",
    "text2 = [\"\"\"I love programming\n",
    "         Python is my favorite programming language.\n",
    "         Programming allows me to solve real-world problems.\"\"\"]\n"
   ]
  },
  {
   "cell_type": "code",
   "execution_count": null,
   "metadata": {},
   "outputs": [],
   "source": [
    "tokens2 = [[item for item in line.split()] for line in text2]\n",
    "g_dict2 = corpora.Dictionary(tokens2)\n",
    "\n",
    "print(\"The dictionary has: \" + str(len(g_dict2)) + \" tokens\\n\")\n",
    "print(g_dict2.token2id)\n",
    "\n",
    "g_bow2 = [g_dict2.doc2bow(token, allow_update=True) for token in tokens2]\n",
    "print(\"Bag of Words : \", g_bow2)\n",
    "\n"
   ]
  },
  {
   "cell_type": "code",
   "execution_count": null,
   "metadata": {},
   "outputs": [],
   "source": [
    "text3 = [\"\"\"I love programming\n",
    "         Python is my favorite programming language.\n",
    "         Programming allows me to solve real-world problems.\"\"\"]\n",
    "\n",
    "g_dict3 = corpora.Dictionary([simple_preprocess(line) for line in text3])\n",
    "g_bow3 = [g_dict3.doc2bow(simple_preprocess(line)) for line in text3]\n",
    "\n",
    "print(\"\\nDictionary : \")\n",
    "for item in g_bow3:\n",
    "    print([[g_dict3[id], freq] for id, freq in item])"
   ]
  }
 ],
 "metadata": {
  "kernelspec": {
   "display_name": "Python 3.10.2 64-bit",
   "language": "python",
   "name": "python3"
  },
  "language_info": {
   "name": "python",
   "version": "3.10.2"
  },
  "orig_nbformat": 4,
  "vscode": {
   "interpreter": {
    "hash": "aee8b7b246df8f9039afb4144a1f6fd8d2ca17a180786b69acc140d282b71a49"
   }
  }
 },
 "nbformat": 4,
 "nbformat_minor": 2
}
